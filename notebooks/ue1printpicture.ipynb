{
 "cells": [
  {
   "cell_type": "code",
   "execution_count": 1,
   "id": "1e09a04e",
   "metadata": {},
   "outputs": [
    {
     "name": "stderr",
     "output_type": "stream",
     "text": [
      "/home/ec2-user/anaconda3/envs/python3/lib/python3.6/site-packages/boto3/compat.py:88: PythonDeprecationWarning: Boto3 will no longer support Python 3.6 starting May 30, 2022. To continue receiving service updates, bug fixes, and security updates please upgrade to Python 3.7 or later. More information can be found here: https://aws.amazon.com/blogs/developer/python-support-policy-updates-for-aws-sdks-and-tools/\n",
      "  warnings.warn(warning, PythonDeprecationWarning)\n"
     ]
    }
   ],
   "source": [
    "import boto3\n",
    "import io\n",
    "from matplotlib import pyplot as plt\n",
    "\n",
    "client = boto3.client(\"s3\")\n",
    "\n",
    "bucket='uni-aiml-s3-cloud02-dev'\n",
    "key= 'picture.png'\n",
    "\n",
    "outfile = io.BytesIO()\n",
    "client.download_fileobj(bucket, key, outfile)\n",
    "outfile.seek(0)\n",
    "img = plt.imread(outfile)"
   ]
  },
  {
   "cell_type": "code",
   "execution_count": null,
   "id": "82fb0c36",
   "metadata": {},
   "outputs": [],
   "source": [
    "plt.imshow(img)\n",
    "plt.show()"
   ]
  }
 ],
 "metadata": {
  "kernelspec": {
   "display_name": "conda_python3",
   "language": "python",
   "name": "conda_python3"
  },
  "language_info": {
   "codemirror_mode": {
    "name": "ipython",
    "version": 3
   },
   "file_extension": ".py",
   "mimetype": "text/x-python",
   "name": "python",
   "nbconvert_exporter": "python",
   "pygments_lexer": "ipython3",
   "version": "3.6.13"
  }
 },
 "nbformat": 4,
 "nbformat_minor": 5
}
