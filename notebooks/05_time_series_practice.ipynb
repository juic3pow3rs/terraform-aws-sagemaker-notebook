{
 "cells": [
  {
   "cell_type": "code",
   "execution_count": null,
   "metadata": {},
   "outputs": [],
   "source": [
    "%matplotlib inline\n",
    "\n",
    "import pandas as pd\n",
    "import matplotlib.pyplot as plt"
   ]
  },
  {
   "cell_type": "markdown",
   "metadata": {},
   "source": [
    "## Time series visualisation"
   ]
  },
  {
   "cell_type": "code",
   "execution_count": null,
   "metadata": {
    "scrolled": true
   },
   "outputs": [],
   "source": [
    "my_weight = [\n",
    "    {'month': '2018-01-01', 'Me': 75},\n",
    "    {'month': '2018-02-01', 'Me': 73},\n",
    "    {'month': '2018-03-01', 'Me': 72},\n",
    "    {'month': '2018-04-01', 'Me': 71},\n",
    "    {'month': '2018-05-01', 'Me': 72},\n",
    "    {'month': '2018-06-01', 'Me': 71},\n",
    "    {'month': '2018-07-01', 'Me': 70},\n",
    "    {'month': '2018-08-01', 'Me': 73},\n",
    "    {'month': '2018-09-01', 'Me': 70},\n",
    "    {'month': '2018-10-01', 'Me': 69},\n",
    "    {'month': '2018-11-01', 'Me': 72},\n",
    "    {'month': '2018-12-01', 'Me': 74}\n",
    "]\n",
    "df = pd.DataFrame(my_weight).set_index('month')\n",
    "df.index = pd.to_datetime(df.index)\n",
    "df.head()"
   ]
  },
  {
   "cell_type": "markdown",
   "metadata": {},
   "source": [
    "**Zur besser interpretierbaren Darstellung wollen wir die Werte aus der Tabelle in einem Diagramm darstellen.**"
   ]
  },
  {
   "cell_type": "code",
   "execution_count": null,
   "metadata": {
    "scrolled": true
   },
   "outputs": [],
   "source": [
    "df.plot()"
   ]
  },
  {
   "cell_type": "markdown",
   "metadata": {},
   "source": [
    "Doch wie funktioniert es, wenn wir mehrere Zeitreihen vergleichen wollen?"
   ]
  },
  {
   "cell_type": "code",
   "execution_count": null,
   "metadata": {},
   "outputs": [],
   "source": [
    "family_weight = [\n",
    "    {'month': '2018-01-01', 'Me': 75, 'spouse': 67, 'ch_1': 52, 'ch_2': 38},\n",
    "    {'month': '2018-02-01', 'Me': 73, 'spouse': 68, 'ch_1': 52, 'ch_2': 39},\n",
    "    {'month': '2018-03-01', 'Me': 72, 'spouse': 65, 'ch_1': 53, 'ch_2': 40},\n",
    "    {'month': '2018-04-01', 'Me': 71, 'spouse': 63, 'ch_1': 53, 'ch_2': 41},\n",
    "    {'month': '2018-05-01', 'Me': 72, 'spouse': 64, 'ch_1': 54, 'ch_2': 42},\n",
    "    {'month': '2018-06-01', 'Me': 71, 'spouse': 65, 'ch_1': 54, 'ch_2': 42},\n",
    "    {'month': '2018-07-01', 'Me': 70, 'spouse': 65, 'ch_1': 55, 'ch_2': 42},\n",
    "    {'month': '2018-08-01', 'Me': 73, 'spouse': 66, 'ch_1': 55, 'ch_2': 43},\n",
    "    {'month': '2018-09-01', 'Me': 70, 'spouse': 65, 'ch_1': 56, 'ch_2': 44},\n",
    "    {'month': '2018-10-01', 'Me': 69, 'spouse': 66, 'ch_1': 57, 'ch_2': 45},\n",
    "    {'month': '2018-11-01', 'Me': 72, 'spouse': 66, 'ch_1': 57, 'ch_2': 46},\n",
    "    {'month': '2018-12-01', 'Me': 74, 'spouse': 66, 'ch_1': 57, 'ch_2': 46}\n",
    "]\n",
    "df2 = pd.DataFrame(family_weight).set_index('month')\n",
    "df2.index = pd.to_datetime(df2.index)\n",
    "df2.head()"
   ]
  },
  {
   "cell_type": "markdown",
   "metadata": {},
   "source": [
    "**Wie können wir diese Zeitreihen nun gegenüberstellen?**\n",
    "\n",
    "Eine logische Darstellung wäre, wenn wir aus dieser Übersicht vier Diagramme zeichnen würden. Dafür müssen wir zunächst ein wenig über Listen und Schleifen in python sprechen."
   ]
  },
  {
   "cell_type": "markdown",
   "metadata": {},
   "source": [
    "## Looping - Schleifen"
   ]
  },
  {
   "cell_type": "code",
   "execution_count": null,
   "metadata": {},
   "outputs": [],
   "source": [
    " my_list = ['A', 'B', 'C']\n",
    "for item in my_list:\n",
    "    print(item)"
   ]
  },
  {
   "cell_type": "markdown",
   "metadata": {},
   "source": [
    "Nutzen wir statt der einfachen for-Schleife die enum()-Funktion, können wir einen Index zur Liste mitführen."
   ]
  },
  {
   "cell_type": "code",
   "execution_count": null,
   "metadata": {},
   "outputs": [],
   "source": [
    "my_list = ['A', 'B', 'C']\n",
    "for i, item in enumerate(my_list):\n",
    "    print(f'{i}. {item}')"
   ]
  },
  {
   "cell_type": "markdown",
   "metadata": {},
   "source": [
    "## Display multiple charts"
   ]
  },
  {
   "cell_type": "code",
   "execution_count": null,
   "metadata": {},
   "outputs": [],
   "source": [
    "start_date = \"2018-01-01\"\n",
    "end_date = \"2018-12-31\"\n",
    "fig, axs = plt.subplots(2, 2, figsize=(12, 5), sharex=True)\n",
    "axx = axs.ravel() #erzeugt eine liste von subplots, durch die wir anschließnd iterieren können\n",
    "for i, column in enumerate(df2.columns):\n",
    "    df2[df2.columns[i]].loc[start_date:end_date].plot(ax=axx[i])\n",
    "    axx[i].set_xlabel(\"month\")\n",
    "    axx[i].set_ylabel(column)\n"
   ]
  },
  {
   "cell_type": "markdown",
   "metadata": {},
   "source": [
    "Kopiert für die folgenden beiden Übungen die vorherige Zelle und führt sie separat aus. "
   ]
  },
  {
   "cell_type": "markdown",
   "metadata": {},
   "source": [
    "## Übung 1\n",
    "\n",
    "**Ändert die Zelle so ab, dass alle vier Diagramme nebeneinander stehen und die gleiche Verteilung auf der Y-Achse haben.** "
   ]
  },
  {
   "cell_type": "code",
   "execution_count": null,
   "metadata": {},
   "outputs": [],
   "source": []
  },
  {
   "cell_type": "markdown",
   "metadata": {},
   "source": [
    "## Übung 2\n",
    "**Ändert die Zelle nun so, dass nur die Werte der zweiten Jahreshälfte angezeigt werden.** "
   ]
  },
  {
   "cell_type": "code",
   "execution_count": null,
   "metadata": {},
   "outputs": [],
   "source": []
  }
 ],
 "metadata": {
  "kernelspec": {
   "display_name": "conda_python3",
   "language": "python",
   "name": "conda_python3"
  },
  "language_info": {
   "codemirror_mode": {
    "name": "ipython",
    "version": 3
   },
   "file_extension": ".py",
   "mimetype": "text/x-python",
   "name": "python",
   "nbconvert_exporter": "python",
   "pygments_lexer": "ipython3",
   "version": "3.6.13"
  }
 },
 "nbformat": 4,
 "nbformat_minor": 2
}
